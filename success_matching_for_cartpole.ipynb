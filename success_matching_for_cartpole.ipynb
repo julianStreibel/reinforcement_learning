{
 "cells": [
  {
   "cell_type": "code",
   "execution_count": 10,
   "id": "6060d4d4",
   "metadata": {},
   "outputs": [],
   "source": [
    "import gym\n",
    "import numpy as np\n",
    "from tqdm.notebook import tqdm\n",
    "from scipy.stats import ttest_ind \n",
    "import matplotlib.pyplot as plt"
   ]
  },
  {
   "cell_type": "code",
   "execution_count": 2,
   "id": "b5e4ebf6",
   "metadata": {},
   "outputs": [],
   "source": [
    "class Multi_Normal():\n",
    "    def __init__(self, mean: np.array, cov: np.array):\n",
    "        self.mean = mean\n",
    "        self.cov = cov\n",
    "        \n",
    "    def sample(self, n):\n",
    "        return np.random.multivariate_normal(self.mean, self.cov, size=(n))\n",
    "    \n",
    "    def update(self, mean, cov):\n",
    "        self.mean = mean\n",
    "        self.cov = cov"
   ]
  },
  {
   "cell_type": "code",
   "execution_count": 3,
   "id": "0d89b85b",
   "metadata": {},
   "outputs": [],
   "source": [
    "class Success_Matching():\n",
    "    def __init__(self, n_states):\n",
    "        self.n_states = n_states\n",
    "        self.dist = Multi_Normal(np.zeros(self.n_states), np.eye(self.n_states))\n",
    "    \n",
    "    def train(\n",
    "        self, \n",
    "        reward_function, \n",
    "        epochs=20, \n",
    "        population_size=10, \n",
    "        variance_optimization=False, \n",
    "        lower_bound_variance=1e-4,\n",
    "        variance_decay=True,\n",
    "        viz_function=False,\n",
    "        verbose=True\n",
    "    ):\n",
    "        with tqdm(total=epochs, disable=not verbose) as pbar:\n",
    "            for epoch in range(epochs):\n",
    "                # sample params\n",
    "                samples = self.dist.sample(population_size)\n",
    "\n",
    "                # collect rewards\n",
    "                reward_sums = [\n",
    "                    reward_function(params) \n",
    "                    for params in samples\n",
    "                ]\n",
    "\n",
    "                # build success weights\n",
    "                reward_sums = np.array(reward_sums)\n",
    "                reward_sums_max = reward_sums.max()\n",
    "                beta = 10 / (reward_sums_max - reward_sums.min() + 1e-6)\n",
    "                w = np.exp(beta * (reward_sums - reward_sums_max))\n",
    "\n",
    "                # update the distribution\n",
    "                new_mean = w @ samples / w.sum()\n",
    "                factor = 1\n",
    "                if variance_optimization:\n",
    "                    distance_to_mean = (samples - new_mean)\n",
    "                    factor *= w@np.square(distance_to_mean).sum(axis=1) / w.sum()\n",
    "                if variance_decay:\n",
    "                    factor *= 1 / np.log(epoch + 2)\n",
    "                new_cov = np.identity(self.n_states) * max(lower_bound_variance, factor)\n",
    "                self.dist.update(new_mean, new_cov)\n",
    "                pbar.update(1)\n",
    "                pbar.set_postfix({\n",
    "                    \"var\":new_cov[0,0], \n",
    "                    \"max reward\": reward_sums.max(), \n",
    "                    \"mean reward\": reward_sums.mean()\n",
    "                })\n",
    "                \n",
    "                if viz_function:\n",
    "                    viz_function(self.dist.mean) \n",
    "            return self.dist.mean"
   ]
  },
  {
   "cell_type": "code",
   "execution_count": 4,
   "id": "c59816f7",
   "metadata": {},
   "outputs": [],
   "source": [
    "def cart_pole_v1_trial(env, params: np.array, tolerance=50, viz=True, T=300):\n",
    "    state = env.reset()\n",
    "    sum_reward = 0\n",
    "    for _ in range(T):\n",
    "        action = int(np.heaviside(np.array(state) @ params, 1))\n",
    "        state, reward, done, info = env.step(action)\n",
    "        sum_reward += reward\n",
    "        if done:\n",
    "            if tolerance > 0 and viz:\n",
    "                tolerance -= 1\n",
    "            else:\n",
    "                break\n",
    "        if viz: \n",
    "            env.render()\n",
    "    return sum_reward"
   ]
  },
  {
   "cell_type": "code",
   "execution_count": 6,
   "id": "f54f6293",
   "metadata": {},
   "outputs": [
    {
     "name": "stdout",
     "output_type": "stream",
     "text": [
      "reward before training 8.0\n"
     ]
    },
    {
     "data": {
      "application/vnd.jupyter.widget-view+json": {
       "model_id": "7b1872b40628404d8e081b0aef40ba14",
       "version_major": 2,
       "version_minor": 0
      },
      "text/plain": [
       "  0%|          | 0/10 [00:00<?, ?it/s]"
      ]
     },
     "metadata": {},
     "output_type": "display_data"
    },
    {
     "name": "stdout",
     "output_type": "stream",
     "text": [
      "final reward 336.0\n"
     ]
    }
   ],
   "source": [
    "env = gym.make('CartPole-v1')\n",
    "\n",
    "n_states = env.observation_space.shape[0]\n",
    "sm = Success_Matching(n_states)\n",
    "\n",
    "# performance before training\n",
    "print(\"reward before training\", cart_pole_v1_trial(env, sm.dist.mean, T=env._max_episode_steps))\n",
    "\n",
    "# rollout functions\n",
    "reward_function = lambda x: cart_pole_v1_trial(env, x, viz=False, T=env._max_episode_steps)\n",
    "viz_function = lambda x: cart_pole_v1_trial(env, x, viz=True, T=env._max_episode_steps)\n",
    "\n",
    "# training\n",
    "best_params = sm.train(\n",
    "    reward_function, \n",
    "    viz_function=viz_function, \n",
    "    population_size=5, \n",
    "    epochs=10, \n",
    "    variance_optimization=False, \n",
    "    variance_decay=True)\n",
    "\n",
    "# performance after training\n",
    "print(\"final reward\", cart_pole_v1_trial(env, best_params, T=env._max_episode_steps))"
   ]
  },
  {
   "cell_type": "markdown",
   "id": "7db91b8c",
   "metadata": {},
   "source": [
    "### Experiment 1: Variance optimization vs variance decay\n",
    "1. Testing both approaches 100 times an collecting the final reward\n",
    "2. T-Test for mean difference between the groups"
   ]
  },
  {
   "cell_type": "code",
   "execution_count": 7,
   "id": "681bfea0",
   "metadata": {},
   "outputs": [
    {
     "data": {
      "application/vnd.jupyter.widget-view+json": {
       "model_id": "690b805619494bbdbebca5063f73566f",
       "version_major": 2,
       "version_minor": 0
      },
      "text/plain": [
       "  0%|          | 0/100 [00:00<?, ?it/s]"
      ]
     },
     "metadata": {},
     "output_type": "display_data"
    }
   ],
   "source": [
    "rewards_variance_optimization = []\n",
    "for _ in tqdm(range(100)):\n",
    "    env = gym.make('CartPole-v1')\n",
    "    n_states = env.observation_space.shape[0]\n",
    "    sm = Success_Matching(n_states)\n",
    "    reward_function = lambda x: cart_pole_v1_trial(env, x, viz=False, T=env._max_episode_steps)\n",
    "    best_params = sm.train(\n",
    "        reward_function, \n",
    "        population_size=5, \n",
    "        epochs=10, \n",
    "        variance_optimization=True, \n",
    "        variance_decay=False,\n",
    "        verbose=False\n",
    "    )\n",
    "    rewards_variance_optimization.append(cart_pole_v1_trial(env, best_params, viz=False, T=env._max_episode_steps))"
   ]
  },
  {
   "cell_type": "code",
   "execution_count": 8,
   "id": "8d35133c",
   "metadata": {},
   "outputs": [
    {
     "data": {
      "application/vnd.jupyter.widget-view+json": {
       "model_id": "8cc2f5a5c5224e41ae64a56c02887e7b",
       "version_major": 2,
       "version_minor": 0
      },
      "text/plain": [
       "  0%|          | 0/100 [00:00<?, ?it/s]"
      ]
     },
     "metadata": {},
     "output_type": "display_data"
    }
   ],
   "source": [
    "rewards_variance_decay = []\n",
    "for _ in tqdm(range(100)):\n",
    "    env = gym.make('CartPole-v1')\n",
    "    n_states = env.observation_space.shape[0]\n",
    "    sm = Success_Matching(n_states)\n",
    "    reward_function = lambda x: cart_pole_v1_trial(env, x, viz=False, T=env._max_episode_steps)\n",
    "    best_params = sm.train(\n",
    "        reward_function, \n",
    "        population_size=5, \n",
    "        epochs=10, \n",
    "        variance_optimization=False, \n",
    "        variance_decay=True,\n",
    "        verbose=False\n",
    "    )\n",
    "    rewards_variance_decay.append(cart_pole_v1_trial(env, best_params, viz=False, T=env._max_episode_steps))"
   ]
  },
  {
   "cell_type": "code",
   "execution_count": 16,
   "id": "3f1642fb",
   "metadata": {},
   "outputs": [
    {
     "data": {
      "image/png": "[encoded data removed]",
      "text/plain": [
       "<Figure size 432x288 with 1 Axes>"
      ]
     },
     "metadata": {
      "needs_background": "light"
     },
     "output_type": "display_data"
    }
   ],
   "source": [
    "plt.figure()\n",
    "plt.hist(rewards_variance_optimization, alpha=0.5, label=\"variance optimization\")\n",
    "plt.hist(rewards_variance_decay, alpha=0.5, label=\"variance decay\")\n",
    "plt.legend()\n",
    "plt.xlabel(\"Reward\")\n",
    "plt.ylabel(\"Count\")\n",
    "plt.show()"
   ]
  },
  {
   "cell_type": "code",
   "execution_count": 9,
   "id": "66ceca73",
   "metadata": {},
   "outputs": [
    {
     "data": {
      "text/plain": [
       "Ttest_indResult(statistic=-8.512914937663155, pvalue=4.201483499609959e-15)"
      ]
     },
     "execution_count": 9,
     "metadata": {},
     "output_type": "execute_result"
    }
   ],
   "source": [
    "ttest_ind(rewards_variance_optimization, rewards_variance_decay)"
   ]
  },
  {
   "cell_type": "markdown",
   "id": "41365696",
   "metadata": {},
   "source": [
    "### Results\n",
    "The t-value is negative so the mean reward from the variance optimization group is lower than the mean of the rewards in the variance decay group. The p-value is basicly zero."
   ]
  }
 ],
 "metadata": {
  "kernelspec": {
   "display_name": "Python 3.9.1 64-bit",
   "language": "python",
   "name": "python39164bitaf7b9d806b6842969a72794a16bc5513"
  },
  "language_info": {
   "codemirror_mode": {
    "name": "ipython",
    "version": 3
   },
   "file_extension": ".py",
   "mimetype": "text/x-python",
   "name": "python",
   "nbconvert_exporter": "python",
   "pygments_lexer": "ipython3",
   "version": "3.9.1"
  }
 },
 "nbformat": 4,
 "nbformat_minor": 5
}
