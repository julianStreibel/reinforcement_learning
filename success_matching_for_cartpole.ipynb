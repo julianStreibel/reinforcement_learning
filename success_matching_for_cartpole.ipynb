{
 "cells": [
  {
   "cell_type": "code",
   "execution_count": 1,
   "id": "126506a2",
   "metadata": {},
   "outputs": [],
   "source": [
    "import gym\n",
    "import numpy as np\n",
    "from tqdm.notebook import tqdm"
   ]
  },
  {
   "cell_type": "code",
   "execution_count": 2,
   "id": "98641210",
   "metadata": {},
   "outputs": [],
   "source": [
    "class Multi_Normal():\n",
    "    def __init__(self, mean: np.array, cov: np.array):\n",
    "        self.mean = mean\n",
    "        self.cov = cov\n",
    "        \n",
    "    def sample(self, n):\n",
    "        return np.random.multivariate_normal(self.mean, self.cov, size=(n))\n",
    "    \n",
    "    def update(self, mean, cov):\n",
    "        self.mean = mean\n",
    "        self.cov = cov"
   ]
  },
  {
   "cell_type": "code",
   "execution_count": 3,
   "id": "0f873c5f",
   "metadata": {},
   "outputs": [],
   "source": [
    "class Success_Matching():\n",
    "    def __init__(self, n_states):\n",
    "        self.n_states = n_states\n",
    "        self.dist = Multi_Normal(np.zeros(self.n_states), np.eye(self.n_states))\n",
    "    \n",
    "    def train(\n",
    "        self, \n",
    "        reward_function, \n",
    "        epochs=20, \n",
    "        population_size=10, \n",
    "        variance_optimization=False, \n",
    "        variance_decay=True,\n",
    "        viz_function=False\n",
    "    ):\n",
    "        with tqdm(total=epochs) as pbar:\n",
    "            for epoch in range(epochs):\n",
    "                # sample params\n",
    "                samples = self.dist.sample(population_size)\n",
    "\n",
    "                # collect rewards\n",
    "                reward_sums = [\n",
    "                    reward_function(params) \n",
    "                    for params in samples\n",
    "                ]\n",
    "\n",
    "                # build success weights\n",
    "                reward_sums = np.array(reward_sums)\n",
    "                reward_sums_max = reward_sums.max()\n",
    "                beta = 10 / (reward_sums_max - reward_sums.min() + 1e-6)\n",
    "                w = np.exp(beta * (reward_sums - reward_sums_max))\n",
    "\n",
    "                # update the distribution\n",
    "                new_mean = w @ samples / w.sum()\n",
    "                factor = 1\n",
    "                if variance_optimization:\n",
    "                    distance_to_mean = (samples - new_mean)\n",
    "                    factor *= w@np.square(distance_to_mean).sum(axis=1) / w.sum()\n",
    "                if variance_decay:\n",
    "                    factor *= 1 / np.log(epoch + 2)\n",
    "                new_cov = np.identity(self.n_states) * factor\n",
    "                self.dist.update(new_mean, new_cov)\n",
    "                pbar.update(1)\n",
    "                pbar.set_postfix({\n",
    "                    \"var\":new_cov[0,0], \n",
    "                    \"max reward\": reward_sums.max(), \n",
    "                    \"mean reward\": reward_sums.mean()\n",
    "                })\n",
    "                \n",
    "                if viz_function:\n",
    "                    viz_function(self.dist.mean) \n",
    "            return self.dist.mean"
   ]
  },
  {
   "cell_type": "code",
   "execution_count": 4,
   "id": "fac16ddd",
   "metadata": {},
   "outputs": [],
   "source": [
    "def cart_pole_v1_trial(env, params: np.array, tolerance=50, viz=True, T=300):\n",
    "    state = env.reset()\n",
    "    sum_reward = 0\n",
    "    for _ in range(T):\n",
    "        action = int(np.heaviside(np.array(state) @ params, 1))\n",
    "        state, reward, done, info = env.step(action)\n",
    "        sum_reward += reward\n",
    "        if done:\n",
    "            if tolerance > 0 and viz:\n",
    "                tolerance -= 1\n",
    "            else:\n",
    "                break\n",
    "        if viz: \n",
    "            env.render()\n",
    "    return sum_reward"
   ]
  },
  {
   "cell_type": "code",
   "execution_count": 6,
   "id": "fa5549b8",
   "metadata": {},
   "outputs": [
    {
     "name": "stdout",
     "output_type": "stream",
     "text": [
      "reward before training 9.0\n"
     ]
    },
    {
     "data": {
      "application/vnd.jupyter.widget-view+json": {
       "model_id": "3f19518c8d874dada1a790b5faa532e6",
       "version_major": 2,
       "version_minor": 0
      },
      "text/plain": [
       "  0%|          | 0/10 [00:00<?, ?it/s]"
      ]
     },
     "metadata": {},
     "output_type": "display_data"
    },
    {
     "name": "stdout",
     "output_type": "stream",
     "text": [
      "final reward 500.0\n"
     ]
    }
   ],
   "source": [
    "env = gym.make('CartPole-v1')\n",
    "\n",
    "n_states = env.observation_space.shape[0]\n",
    "sm = Success_Matching(n_states)\n",
    "\n",
    "# performance before training\n",
    "print(\"reward before training\", cart_pole_v1_trial(env, sm.dist.mean, T=env._max_episode_steps))\n",
    "\n",
    "# rollout functions\n",
    "reward_function = lambda x: cart_pole_v1_trial(env, x, viz=False, T=env._max_episode_steps)\n",
    "viz_function = lambda x: cart_pole_v1_trial(env, x, viz=True, T=env._max_episode_steps)\n",
    "\n",
    "# training\n",
    "best_params = sm.train(reward_function, viz_function=viz_function, population_size=5, epochs=10)\n",
    "\n",
    "# performance after training\n",
    "print(\"final reward\", cart_pole_v1_trial(env, best_params, T=env._max_episode_steps))"
   ]
  }
 ],
 "metadata": {
  "kernelspec": {
   "display_name": "Python 3.9.1 64-bit",
   "language": "python",
   "name": "python39164bitaf7b9d806b6842969a72794a16bc5513"
  },
  "language_info": {
   "codemirror_mode": {
    "name": "ipython",
    "version": 3
   },
   "file_extension": ".py",
   "mimetype": "text/x-python",
   "name": "python",
   "nbconvert_exporter": "python",
   "pygments_lexer": "ipython3",
   "version": "3.9.1"
  }
 },
 "nbformat": 4,
 "nbformat_minor": 5
}
