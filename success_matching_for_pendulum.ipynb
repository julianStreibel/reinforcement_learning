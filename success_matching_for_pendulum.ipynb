{
 "cells": [
  {
   "cell_type": "code",
   "execution_count": 1,
   "id": "97812307",
   "metadata": {},
   "outputs": [],
   "source": [
    "import gym\n",
    "import numpy as np\n",
    "from tqdm.notebook import tqdm\n",
    "from scipy.stats import ttest_ind \n",
    "import matplotlib.pyplot as plt\n",
    "\n",
    "from optimization import Success_Matching, Parallel_Environment"
   ]
  },
  {
   "cell_type": "code",
   "execution_count": 2,
   "id": "cb9aa6e0",
   "metadata": {},
   "outputs": [],
   "source": [
    "def polynomial_features(x):\n",
    "    angle = np.arcsin(x[0])\n",
    "    angle_velocity = x[2]\n",
    "    x = np.array([angle, angle_velocity])\n",
    "    return np.array([\n",
    "        *x, *(x.reshape(-1, 1)@x.reshape(1, -1))[np.triu_indices(x.shape[0])].flatten(), *x**3\n",
    "    ])"
   ]
  },
  {
   "cell_type": "code",
   "execution_count": 3,
   "id": "8a09ce7a",
   "metadata": {},
   "outputs": [],
   "source": [
    "def pendulum_v1_trial(env, params: np.array, seed=None, T=False, tolerance=50, viz=True):\n",
    "    env.action_space.seed(seed)\n",
    "    state = env.reset(seed=seed)\n",
    "    sum_reward = 0\n",
    "    for t in range(env._max_episode_steps):\n",
    "        action = np.clip(polynomial_features(state) @ params, -2, 2)\n",
    "        state, reward, done, info = env.step([action])\n",
    "        sum_reward += reward\n",
    "        if done:\n",
    "            if tolerance > 0 and viz:\n",
    "                tolerance -= 1\n",
    "            else:\n",
    "                break\n",
    "        if viz: \n",
    "            env.render()\n",
    "    return sum_reward"
   ]
  },
  {
   "cell_type": "code",
   "execution_count": 4,
   "id": "61aff539",
   "metadata": {
    "scrolled": true
   },
   "outputs": [
    {
     "name": "stdout",
     "output_type": "stream",
     "text": [
      "n_state 7\n"
     ]
    }
   ],
   "source": [
    "# rollout functions\n",
    "reward_function = lambda env, params, seed: pendulum_v1_trial(env, params, seed, viz=False)\n",
    "viz_function = lambda env, params: pendulum_v1_trial(env, params, viz=True)\n",
    "\n",
    "# parallel env\n",
    "p_env = Parallel_Environment('Pendulum-v1', reward_function, viz_function)\n",
    "\n",
    "# optimizer\n",
    "n_state = polynomial_features(np.ones(p_env.observation_space_shape[0])).shape[0]\n",
    "print(\"n_state\", n_state)\n",
    "sm = Success_Matching(n_state)"
   ]
  },
  {
   "cell_type": "code",
   "execution_count": 6,
   "id": "5b6192e0",
   "metadata": {},
   "outputs": [
    {
     "data": {
      "text/plain": [
       "-1603.495317608435"
      ]
     },
     "execution_count": 6,
     "metadata": {},
     "output_type": "execute_result"
    }
   ],
   "source": [
    "p_env.vizualize(sm.mean)"
   ]
  },
  {
   "cell_type": "code",
   "execution_count": 7,
   "id": "ce92a746",
   "metadata": {},
   "outputs": [],
   "source": [
    "def scheduler(t):\n",
    "    \"\"\"\n",
    "    returns \n",
    "    [population_size, lower_bound_variance, lower_bound_importance] \n",
    "    for every timestep t\n",
    "    \"\"\"\n",
    "    if t < 1:\n",
    "        return [1000, 5, 1e-3]\n",
    "    if t < 3:\n",
    "        return [500, 1, 1e-4]\n",
    "    if t < 5:\n",
    "        return [300, 1e-4, 1e-4]\n",
    "    if t < 6:\n",
    "        return [300, 1e-5, 1e-5]\n",
    "    if t < 7:\n",
    "        return [300, 1e-6, 1e-5]\n",
    "    return [300, 1e-7, 0]"
   ]
  },
  {
   "cell_type": "code",
   "execution_count": 8,
   "id": "9718e907",
   "metadata": {
    "scrolled": false
   },
   "outputs": [
    {
     "name": "stdout",
     "output_type": "stream",
     "text": [
      "epoch: 0\n",
      "    population_size: 1000\n",
      "    lower_bound_variance: 5\n",
      "    lower_bound_importance: 0.01\n",
      "    \n"
     ]
    },
    {
     "data": {
      "application/vnd.jupyter.widget-view+json": {
       "model_id": "270ea0c227f34de68ba2a466d839f902",
       "version_major": 2,
       "version_minor": 0
      },
      "text/plain": [
       "  0%|          | 0/20 [00:00<?, ?it/s]"
      ]
     },
     "metadata": {},
     "output_type": "display_data"
    },
    {
     "name": "stdout",
     "output_type": "stream",
     "text": [
      "epoch: 1\n",
      "    population_size: 500\n",
      "    lower_bound_variance: 1\n",
      "    lower_bound_importance: 0.001\n",
      "    \n"
     ]
    },
    {
     "data": {
      "application/vnd.jupyter.widget-view+json": {
       "model_id": "495f5e5541b244e88a52aa064a7d819e",
       "version_major": 2,
       "version_minor": 0
      },
      "text/plain": [
       "  0%|          | 0/20 [00:00<?, ?it/s]"
      ]
     },
     "metadata": {},
     "output_type": "display_data"
    },
    {
     "name": "stdout",
     "output_type": "stream",
     "text": [
      "epoch: 2\n",
      "    population_size: 500\n",
      "    lower_bound_variance: 1\n",
      "    lower_bound_importance: 0.001\n",
      "    \n"
     ]
    },
    {
     "data": {
      "application/vnd.jupyter.widget-view+json": {
       "model_id": "fe518584871f4394a5219096ea48e3e4",
       "version_major": 2,
       "version_minor": 0
      },
      "text/plain": [
       "  0%|          | 0/20 [00:00<?, ?it/s]"
      ]
     },
     "metadata": {},
     "output_type": "display_data"
    },
    {
     "name": "stdout",
     "output_type": "stream",
     "text": [
      "epoch: 3\n",
      "    population_size: 300\n",
      "    lower_bound_variance: 0.0001\n",
      "    lower_bound_importance: 0.0001\n",
      "    \n"
     ]
    },
    {
     "data": {
      "application/vnd.jupyter.widget-view+json": {
       "model_id": "5b236d8659fe4bcaaa2e457305c3d775",
       "version_major": 2,
       "version_minor": 0
      },
      "text/plain": [
       "  0%|          | 0/20 [00:00<?, ?it/s]"
      ]
     },
     "metadata": {},
     "output_type": "display_data"
    },
    {
     "name": "stdout",
     "output_type": "stream",
     "text": [
      "epoch: 4\n",
      "    population_size: 300\n",
      "    lower_bound_variance: 0.0001\n",
      "    lower_bound_importance: 0.0001\n",
      "    \n"
     ]
    },
    {
     "data": {
      "application/vnd.jupyter.widget-view+json": {
       "model_id": "9f8dd2a65a234ba5843b418de46f06b0",
       "version_major": 2,
       "version_minor": 0
      },
      "text/plain": [
       "  0%|          | 0/20 [00:00<?, ?it/s]"
      ]
     },
     "metadata": {},
     "output_type": "display_data"
    },
    {
     "name": "stdout",
     "output_type": "stream",
     "text": [
      "epoch: 5\n",
      "    population_size: 300\n",
      "    lower_bound_variance: 1e-05\n",
      "    lower_bound_importance: 1e-05\n",
      "    \n"
     ]
    },
    {
     "data": {
      "application/vnd.jupyter.widget-view+json": {
       "model_id": "7811f6d0b8ad476fb792ce8d76440a7f",
       "version_major": 2,
       "version_minor": 0
      },
      "text/plain": [
       "  0%|          | 0/20 [00:00<?, ?it/s]"
      ]
     },
     "metadata": {},
     "output_type": "display_data"
    },
    {
     "name": "stdout",
     "output_type": "stream",
     "text": [
      "epoch: 6\n",
      "    population_size: 300\n",
      "    lower_bound_variance: 1e-06\n",
      "    lower_bound_importance: 1e-05\n",
      "    \n"
     ]
    },
    {
     "data": {
      "application/vnd.jupyter.widget-view+json": {
       "model_id": "5d494f87044946be877aecd34b7da3a5",
       "version_major": 2,
       "version_minor": 0
      },
      "text/plain": [
       "  0%|          | 0/20 [00:00<?, ?it/s]"
      ]
     },
     "metadata": {},
     "output_type": "display_data"
    },
    {
     "name": "stdout",
     "output_type": "stream",
     "text": [
      "epoch: 7\n",
      "    population_size: 300\n",
      "    lower_bound_variance: 1e-07\n",
      "    lower_bound_importance: 0\n",
      "    \n"
     ]
    },
    {
     "data": {
      "application/vnd.jupyter.widget-view+json": {
       "model_id": "9a90c61e554d46569a364da5b3f71676",
       "version_major": 2,
       "version_minor": 0
      },
      "text/plain": [
       "  0%|          | 0/20 [00:00<?, ?it/s]"
      ]
     },
     "metadata": {},
     "output_type": "display_data"
    },
    {
     "name": "stdout",
     "output_type": "stream",
     "text": [
      "epoch: 8\n",
      "    population_size: 300\n",
      "    lower_bound_variance: 1e-07\n",
      "    lower_bound_importance: 0\n",
      "    \n"
     ]
    },
    {
     "data": {
      "application/vnd.jupyter.widget-view+json": {
       "model_id": "9048a26dc3274d63a4b8b8368b9816fe",
       "version_major": 2,
       "version_minor": 0
      },
      "text/plain": [
       "  0%|          | 0/20 [00:00<?, ?it/s]"
      ]
     },
     "metadata": {},
     "output_type": "display_data"
    },
    {
     "name": "stdout",
     "output_type": "stream",
     "text": [
      "epoch: 9\n",
      "    population_size: 300\n",
      "    lower_bound_variance: 1e-07\n",
      "    lower_bound_importance: 0\n",
      "    \n"
     ]
    },
    {
     "data": {
      "application/vnd.jupyter.widget-view+json": {
       "model_id": "5a2e8f7117f8486fbc5dd1020a885970",
       "version_major": 2,
       "version_minor": 0
      },
      "text/plain": [
       "  0%|          | 0/20 [00:00<?, ?it/s]"
      ]
     },
     "metadata": {},
     "output_type": "display_data"
    }
   ],
   "source": [
    "# training\n",
    "e = 10\n",
    "for i in range(e):\n",
    "    population_size, lower_bound_variance, lower_bound_importance = scheduler(i)\n",
    "    print(f\"\"\"epoch: {i}\n",
    "    population_size: {population_size}\n",
    "    lower_bound_variance: {lower_bound_variance}\n",
    "    lower_bound_importance: {lower_bound_importance}\n",
    "    \"\"\")\n",
    "    best_params = sm.train(\n",
    "        p_env,\n",
    "        population_size=population_size, \n",
    "        epochs=20, \n",
    "        variance_optimization=True, \n",
    "        variance_decay=False,\n",
    "        lower_bound_variance=lower_bound_variance,\n",
    "        lower_bound_importance=lower_bound_importance\n",
    "    )\n",
    "    p_env.vizualize(sm.mean)"
   ]
  },
  {
   "cell_type": "code",
   "execution_count": 9,
   "id": "1b364388",
   "metadata": {},
   "outputs": [],
   "source": [
    "for _ in range(10):\n",
    "    p_env.vizualize(sm.mean)"
   ]
  },
  {
   "cell_type": "code",
   "execution_count": 10,
   "id": "e2364125",
   "metadata": {},
   "outputs": [
    {
     "data": {
      "text/plain": [
       "array([-9.51131325,  4.82630526, -4.57864117, -9.28505739, -2.38660498,\n",
       "        6.81543525, -0.5806123 ])"
      ]
     },
     "execution_count": 10,
     "metadata": {},
     "output_type": "execute_result"
    }
   ],
   "source": [
    "sm.mean"
   ]
  },
  {
   "cell_type": "code",
   "execution_count": 15,
   "id": "6c03f390",
   "metadata": {},
   "outputs": [
    {
     "data": {
      "text/plain": [
       "array([[ 3.26163740e-06,  1.71943688e-08, -1.67979197e-06,\n",
       "         1.41016586e-06,  9.22003622e-07, -3.62515169e-07,\n",
       "         2.73179868e-07],\n",
       "       [ 1.71943688e-08,  4.86506532e-07,  2.57681342e-07,\n",
       "         1.53402603e-07, -5.99467051e-08, -1.78788135e-07,\n",
       "        -3.65323828e-08],\n",
       "       [-1.67979197e-06,  2.57681342e-07,  1.25629688e-06,\n",
       "        -1.01241885e-06, -6.98042424e-07, -9.07567285e-08,\n",
       "        -1.76394710e-07],\n",
       "       [ 1.41016586e-06,  1.53402603e-07, -1.01241885e-06,\n",
       "         2.68306293e-06,  1.32478809e-06, -1.80575742e-10,\n",
       "         2.24703051e-07],\n",
       "       [ 9.22003622e-07, -5.99467051e-08, -6.98042424e-07,\n",
       "         1.32478809e-06,  7.11828987e-07,  3.22809991e-08,\n",
       "         1.36760235e-07],\n",
       "       [-3.62515169e-07, -1.78788135e-07, -9.07567285e-08,\n",
       "        -1.80575742e-10,  3.22809991e-08,  2.40084025e-07,\n",
       "        -9.48358835e-09],\n",
       "       [ 2.73179868e-07, -3.65323828e-08, -1.76394710e-07,\n",
       "         2.24703051e-07,  1.36760235e-07, -9.48358835e-09,\n",
       "         1.00000000e-07]])"
      ]
     },
     "execution_count": 15,
     "metadata": {},
     "output_type": "execute_result"
    }
   ],
   "source": [
    "sm.cov"
   ]
  }
 ],
 "metadata": {
  "kernelspec": {
   "display_name": "Python 3 (ipykernel)",
   "language": "python",
   "name": "python3"
  },
  "language_info": {
   "codemirror_mode": {
    "name": "ipython",
    "version": 3
   },
   "file_extension": ".py",
   "mimetype": "text/x-python",
   "name": "python",
   "nbconvert_exporter": "python",
   "pygments_lexer": "ipython3",
   "version": "3.9.1"
  }
 },
 "nbformat": 4,
 "nbformat_minor": 5
}
